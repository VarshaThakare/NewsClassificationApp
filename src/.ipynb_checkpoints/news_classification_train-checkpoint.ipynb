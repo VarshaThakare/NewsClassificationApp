{
 "cells": [
  {
   "cell_type": "markdown",
   "id": "8c71065b",
   "metadata": {},
   "source": [
    "# Imports"
   ]
  },
  {
   "cell_type": "code",
   "execution_count": 1,
   "id": "e1a947f3",
   "metadata": {},
   "outputs": [],
   "source": [
    "import pandas as pd\n",
    "import numpy as np\n",
    "import seaborn as sns\n",
    "from matplotlib import pyplot as plt\n",
    "import re\n",
    "import string\n",
    "from nltk.corpus import stopwords\n",
    "from nltk.corpus import wordnet\n",
    "from nltk.stem import WordNetLemmatizer\n",
    "import nltk\n",
    "from tqdm import tqdm\n",
    "from preprocess import clean_text"
   ]
  },
  {
   "cell_type": "markdown",
   "id": "b8e25d29",
   "metadata": {},
   "source": [
    "# Reading inputs"
   ]
  },
  {
   "cell_type": "code",
   "execution_count": 2,
   "id": "5a87e2ad",
   "metadata": {},
   "outputs": [],
   "source": [
    "data_train = pd.read_excel(\"../data/Data_Train.xlsx\")\n",
    "data_test = pd.read_excel(\"../data/Data_Test.xlsx\")"
   ]
  },
  {
   "cell_type": "code",
   "execution_count": 3,
   "id": "1a3e3843",
   "metadata": {},
   "outputs": [
    {
     "data": {
      "text/html": [
       "<div>\n",
       "<style scoped>\n",
       "    .dataframe tbody tr th:only-of-type {\n",
       "        vertical-align: middle;\n",
       "    }\n",
       "\n",
       "    .dataframe tbody tr th {\n",
       "        vertical-align: top;\n",
       "    }\n",
       "\n",
       "    .dataframe thead th {\n",
       "        text-align: right;\n",
       "    }\n",
       "</style>\n",
       "<table border=\"1\" class=\"dataframe\">\n",
       "  <thead>\n",
       "    <tr style=\"text-align: right;\">\n",
       "      <th></th>\n",
       "      <th>STORY</th>\n",
       "      <th>SECTION</th>\n",
       "    </tr>\n",
       "  </thead>\n",
       "  <tbody>\n",
       "    <tr>\n",
       "      <th>0</th>\n",
       "      <td>But the most painful was the huge reversal in ...</td>\n",
       "      <td>3.0</td>\n",
       "    </tr>\n",
       "    <tr>\n",
       "      <th>1</th>\n",
       "      <td>How formidable is the opposition alliance amon...</td>\n",
       "      <td>0.0</td>\n",
       "    </tr>\n",
       "    <tr>\n",
       "      <th>2</th>\n",
       "      <td>Most Asian currencies were trading lower today...</td>\n",
       "      <td>3.0</td>\n",
       "    </tr>\n",
       "    <tr>\n",
       "      <th>3</th>\n",
       "      <td>If you want to answer any question, click on ‘...</td>\n",
       "      <td>1.0</td>\n",
       "    </tr>\n",
       "    <tr>\n",
       "      <th>4</th>\n",
       "      <td>In global markets, gold prices edged up today ...</td>\n",
       "      <td>3.0</td>\n",
       "    </tr>\n",
       "  </tbody>\n",
       "</table>\n",
       "</div>"
      ],
      "text/plain": [
       "                                               STORY  SECTION\n",
       "0  But the most painful was the huge reversal in ...      3.0\n",
       "1  How formidable is the opposition alliance amon...      0.0\n",
       "2  Most Asian currencies were trading lower today...      3.0\n",
       "3  If you want to answer any question, click on ‘...      1.0\n",
       "4  In global markets, gold prices edged up today ...      3.0"
      ]
     },
     "execution_count": 3,
     "metadata": {},
     "output_type": "execute_result"
    }
   ],
   "source": [
    "data_train.head(5)"
   ]
  },
  {
   "cell_type": "code",
   "execution_count": 4,
   "id": "e5eb94ac",
   "metadata": {},
   "outputs": [
    {
     "data": {
      "text/html": [
       "<div>\n",
       "<style scoped>\n",
       "    .dataframe tbody tr th:only-of-type {\n",
       "        vertical-align: middle;\n",
       "    }\n",
       "\n",
       "    .dataframe tbody tr th {\n",
       "        vertical-align: top;\n",
       "    }\n",
       "\n",
       "    .dataframe thead th {\n",
       "        text-align: right;\n",
       "    }\n",
       "</style>\n",
       "<table border=\"1\" class=\"dataframe\">\n",
       "  <thead>\n",
       "    <tr style=\"text-align: right;\">\n",
       "      <th></th>\n",
       "      <th>STORY</th>\n",
       "    </tr>\n",
       "  </thead>\n",
       "  <tbody>\n",
       "    <tr>\n",
       "      <th>0</th>\n",
       "      <td>2019 will see gadgets like gaming smartphones ...</td>\n",
       "    </tr>\n",
       "    <tr>\n",
       "      <th>1</th>\n",
       "      <td>It has also unleashed a wave of changes in the...</td>\n",
       "    </tr>\n",
       "    <tr>\n",
       "      <th>2</th>\n",
       "      <td>It can be confusing to pick the right smartpho...</td>\n",
       "    </tr>\n",
       "    <tr>\n",
       "      <th>3</th>\n",
       "      <td>The mobile application is integrated with a da...</td>\n",
       "    </tr>\n",
       "    <tr>\n",
       "      <th>4</th>\n",
       "      <td>We have rounded up some of the gadgets that sh...</td>\n",
       "    </tr>\n",
       "  </tbody>\n",
       "</table>\n",
       "</div>"
      ],
      "text/plain": [
       "                                               STORY\n",
       "0  2019 will see gadgets like gaming smartphones ...\n",
       "1  It has also unleashed a wave of changes in the...\n",
       "2  It can be confusing to pick the right smartpho...\n",
       "3  The mobile application is integrated with a da...\n",
       "4  We have rounded up some of the gadgets that sh..."
      ]
     },
     "execution_count": 4,
     "metadata": {},
     "output_type": "execute_result"
    }
   ],
   "source": [
    "data_test.head(5)"
   ]
  },
  {
   "cell_type": "markdown",
   "id": "37c13b06",
   "metadata": {},
   "source": [
    "## Data Cleaning"
   ]
  },
  {
   "cell_type": "code",
   "execution_count": 5,
   "id": "5fb5cdf3",
   "metadata": {},
   "outputs": [],
   "source": [
    "from preprocess import clean_text"
   ]
  },
  {
   "cell_type": "code",
   "execution_count": null,
   "id": "0be5131f",
   "metadata": {},
   "outputs": [],
   "source": []
  },
  {
   "cell_type": "markdown",
   "id": "193b495e",
   "metadata": {},
   "source": [
    "## Train Test Split"
   ]
  },
  {
   "cell_type": "code",
   "execution_count": 36,
   "id": "d6680d86",
   "metadata": {},
   "outputs": [],
   "source": [
    "from sklearn.model_selection import train_test_split"
   ]
  },
  {
   "cell_type": "code",
   "execution_count": 37,
   "id": "41f98b97",
   "metadata": {},
   "outputs": [],
   "source": [
    "X = data_train.drop(columns = ['SECTION'])\n",
    "y = data_train['SECTION']\n",
    "X_train,X_test,y_train,y_test = train_test_split(X,y,test_size = .2,random_state = 42,stratify = y)"
   ]
  },
  {
   "cell_type": "code",
   "execution_count": 38,
   "id": "a40e0fc9",
   "metadata": {},
   "outputs": [
    {
     "data": {
      "text/plain": [
       "(6102, 7)"
      ]
     },
     "execution_count": 38,
     "metadata": {},
     "output_type": "execute_result"
    }
   ],
   "source": [
    "X_train.shape"
   ]
  },
  {
   "cell_type": "code",
   "execution_count": 39,
   "id": "797d77c5",
   "metadata": {},
   "outputs": [
    {
     "data": {
      "text/plain": [
       "(1526, 7)"
      ]
     },
     "execution_count": 39,
     "metadata": {},
     "output_type": "execute_result"
    }
   ],
   "source": [
    "X_test.shape"
   ]
  },
  {
   "cell_type": "code",
   "execution_count": 40,
   "id": "c9e43bd3",
   "metadata": {},
   "outputs": [
    {
     "data": {
      "text/plain": [
       "1    0.363324\n",
       "2    0.252212\n",
       "0    0.221075\n",
       "3    0.163389\n",
       "Name: SECTION, dtype: float64"
      ]
     },
     "execution_count": 40,
     "metadata": {},
     "output_type": "execute_result"
    }
   ],
   "source": [
    "y_train.value_counts(normalize=True)"
   ]
  },
  {
   "cell_type": "code",
   "execution_count": 41,
   "id": "6f21874c",
   "metadata": {},
   "outputs": [
    {
     "data": {
      "text/plain": [
       "1    0.363696\n",
       "2    0.252294\n",
       "0    0.220839\n",
       "3    0.163172\n",
       "Name: SECTION, dtype: float64"
      ]
     },
     "execution_count": 41,
     "metadata": {},
     "output_type": "execute_result"
    }
   ],
   "source": [
    "y_test.value_counts(normalize=True)"
   ]
  },
  {
   "cell_type": "markdown",
   "id": "87fa587f",
   "metadata": {},
   "source": [
    "# Vectorization"
   ]
  },
  {
   "cell_type": "raw",
   "id": "74feff04",
   "metadata": {},
   "source": [
    "tfidf - clean_story"
   ]
  },
  {
   "cell_type": "markdown",
   "id": "81b475a5",
   "metadata": {},
   "source": [
    "## TfIdf"
   ]
  },
  {
   "cell_type": "code",
   "execution_count": 42,
   "id": "3b51e106",
   "metadata": {},
   "outputs": [],
   "source": [
    "from sklearn.feature_extraction.text import CountVectorizer,TfidfVectorizer"
   ]
  },
  {
   "cell_type": "markdown",
   "id": "7379da6b",
   "metadata": {},
   "source": [
    "#### TfIdf"
   ]
  },
  {
   "cell_type": "code",
   "execution_count": 44,
   "id": "2b621a1c",
   "metadata": {},
   "outputs": [],
   "source": [
    "tfidf = TfidfVectorizer()\n",
    "X_train_tfidf = tfidf.fit_transform(X_train['clean_story'])\n",
    "X_test_tfidf = tfidf.transform(X_test['clean_story'])\n"
   ]
  },
  {
   "cell_type": "markdown",
   "id": "ba71ef19",
   "metadata": {},
   "source": [
    "# Model building \n"
   ]
  },
  {
   "cell_type": "markdown",
   "id": "6bd6e06e",
   "metadata": {},
   "source": [
    "#### Choice of metrics : Accuracy as dataset is balanced.\n",
    "(However we will also look at individual precison and recall)"
   ]
  },
  {
   "cell_type": "code",
   "execution_count": 58,
   "id": "49f5bcec",
   "metadata": {},
   "outputs": [],
   "source": [
    "from sklearn.neighbors import KNeighborsClassifier\n",
    "from sklearn.metrics import accuracy_score"
   ]
  },
  {
   "cell_type": "markdown",
   "id": "19d05c3a",
   "metadata": {},
   "source": [
    "## Building Logistic Regression model for all six vectors."
   ]
  },
  {
   "cell_type": "code",
   "execution_count": 71,
   "id": "2d4de1f4",
   "metadata": {},
   "outputs": [],
   "source": [
    "from sklearn.linear_model import LogisticRegression"
   ]
  },
  {
   "cell_type": "markdown",
   "id": "c176f1f0",
   "metadata": {},
   "source": [
    "### TFIDF LR"
   ]
  },
  {
   "cell_type": "code",
   "execution_count": 74,
   "id": "4ad7b61c",
   "metadata": {},
   "outputs": [],
   "source": [
    "lr_tfidf = LogisticRegression()\n",
    "lr_tfidf.fit(X_train_tfidf,y_train)\n",
    "lr_tfidf_pred = lr_tfidf.predict(X_test_tfidf)\n",
    "lr_tfidf_acc = accuracy_score(y_test,lr_tfidf_pred)"
   ]
  },
  {
   "cell_type": "code",
   "execution_count": 75,
   "id": "ccd8b7ea",
   "metadata": {},
   "outputs": [
    {
     "data": {
      "text/plain": [
       "0.9665792922673656"
      ]
     },
     "execution_count": 75,
     "metadata": {},
     "output_type": "execute_result"
    }
   ],
   "source": [
    "lr_tfidf_acc"
   ]
  },
  {
   "cell_type": "markdown",
   "id": "052ef2da",
   "metadata": {},
   "source": [
    "## Performance metrics dataset"
   ]
  },
  {
   "cell_type": "code",
   "execution_count": 86,
   "id": "2f74fc6a",
   "metadata": {},
   "outputs": [
    {
     "data": {
      "text/html": [
       "<div>\n",
       "<style scoped>\n",
       "    .dataframe tbody tr th:only-of-type {\n",
       "        vertical-align: middle;\n",
       "    }\n",
       "\n",
       "    .dataframe tbody tr th {\n",
       "        vertical-align: top;\n",
       "    }\n",
       "\n",
       "    .dataframe thead th {\n",
       "        text-align: right;\n",
       "    }\n",
       "</style>\n",
       "<table border=\"1\" class=\"dataframe\">\n",
       "  <thead>\n",
       "    <tr style=\"text-align: right;\">\n",
       "      <th></th>\n",
       "      <th>bow</th>\n",
       "      <th>tfidf</th>\n",
       "      <th>avg_w2v</th>\n",
       "      <th>avg_w2v_eng_only</th>\n",
       "      <th>tfidf_w2v</th>\n",
       "      <th>tfidf_w2v_eng_only</th>\n",
       "      <th>max_Acc</th>\n",
       "    </tr>\n",
       "  </thead>\n",
       "  <tbody>\n",
       "    <tr>\n",
       "      <th>KNN</th>\n",
       "      <td>0.754260</td>\n",
       "      <td>0.953473</td>\n",
       "      <td>0.942988</td>\n",
       "      <td>0.930537</td>\n",
       "      <td>0.936435</td>\n",
       "      <td>0.919397</td>\n",
       "      <td>0.953473</td>\n",
       "    </tr>\n",
       "    <tr>\n",
       "      <th>LR</th>\n",
       "      <td>0.963303</td>\n",
       "      <td>0.966579</td>\n",
       "      <td>0.951507</td>\n",
       "      <td>0.944954</td>\n",
       "      <td>0.949541</td>\n",
       "      <td>0.935125</td>\n",
       "      <td>0.966579</td>\n",
       "    </tr>\n",
       "  </tbody>\n",
       "</table>\n",
       "</div>"
      ],
      "text/plain": [
       "          bow     tfidf   avg_w2v  avg_w2v_eng_only  tfidf_w2v  \\\n",
       "KNN  0.754260  0.953473  0.942988          0.930537   0.936435   \n",
       "LR   0.963303  0.966579  0.951507          0.944954   0.949541   \n",
       "\n",
       "     tfidf_w2v_eng_only   max_Acc  \n",
       "KNN            0.919397  0.953473  \n",
       "LR             0.935125  0.966579  "
      ]
     },
     "execution_count": 86,
     "metadata": {},
     "output_type": "execute_result"
    }
   ],
   "source": [
    "performance_metrics = performance_metrics.assign(max_Acc = lambda x : (x.max(axis = 1)))\n",
    "performance_metrics"
   ]
  },
  {
   "cell_type": "markdown",
   "id": "ef0c626a",
   "metadata": {},
   "source": [
    "#### Gridsearch CV"
   ]
  },
  {
   "cell_type": "code",
   "execution_count": 87,
   "id": "56337f67",
   "metadata": {},
   "outputs": [],
   "source": [
    "from sklearn.model_selection import GridSearchCV"
   ]
  },
  {
   "cell_type": "markdown",
   "id": "bfa30171",
   "metadata": {},
   "source": [
    "## Hyperparameter tuning for LR tfidf"
   ]
  },
  {
   "cell_type": "code",
   "execution_count": 94,
   "id": "75838db1",
   "metadata": {},
   "outputs": [
    {
     "name": "stderr",
     "output_type": "stream",
     "text": [
      "C:\\Users\\varsh\\anaconda3\\lib\\site-packages\\sklearn\\model_selection\\_search.py:918: UserWarning: One or more of the test scores are non-finite: [       nan 0.97476457        nan 0.97427277        nan 0.97460077\n",
      "        nan 0.97394517        nan 0.97394503        nan 0.97443697]\n",
      "  warnings.warn(\n",
      "C:\\Users\\varsh\\anaconda3\\lib\\site-packages\\sklearn\\linear_model\\_logistic.py:763: ConvergenceWarning: lbfgs failed to converge (status=1):\n",
      "STOP: TOTAL NO. of ITERATIONS REACHED LIMIT.\n",
      "\n",
      "Increase the number of iterations (max_iter) or scale the data as shown in:\n",
      "    https://scikit-learn.org/stable/modules/preprocessing.html\n",
      "Please also refer to the documentation for alternative solver options:\n",
      "    https://scikit-learn.org/stable/modules/linear_model.html#logistic-regression\n",
      "  n_iter_i = _check_optimize_result(\n"
     ]
    },
    {
     "data": {
      "text/plain": [
       "GridSearchCV(cv=5, estimator=LogisticRegression(), n_jobs=-1,\n",
       "             param_grid={'C': [900, 950, 1000, 1100, 1150, 1200],\n",
       "                         'penalty': ['l1', 'l2']},\n",
       "             scoring='accuracy')"
      ]
     },
     "execution_count": 94,
     "metadata": {},
     "output_type": "execute_result"
    }
   ],
   "source": [
    "lr_tfidf_cv = LogisticRegression()\n",
    "param_grid_lr = { 'C' : [900,950,1000,1100,1150,1200],\n",
    "     'penalty' : ['l1', 'l2']}\n",
    "\n",
    "lr_search = GridSearchCV(estimator=lr_tfidf_cv, param_grid=param_grid_lr, scoring='accuracy', n_jobs=-1, cv=5)\n",
    "\n",
    "lr_search.fit(X_train_tfidf,y_train)"
   ]
  },
  {
   "cell_type": "code",
   "execution_count": 95,
   "id": "72702af9",
   "metadata": {},
   "outputs": [
    {
     "data": {
      "text/plain": [
       "{'C': 900, 'penalty': 'l2'}"
      ]
     },
     "execution_count": 95,
     "metadata": {},
     "output_type": "execute_result"
    }
   ],
   "source": [
    "lr_search.best_params_"
   ]
  },
  {
   "cell_type": "code",
   "execution_count": 96,
   "id": "7af2f43a",
   "metadata": {},
   "outputs": [
    {
     "data": {
      "text/plain": [
       "0.9747645708301447"
      ]
     },
     "execution_count": 96,
     "metadata": {},
     "output_type": "execute_result"
    }
   ],
   "source": [
    "lr_search.best_score_"
   ]
  },
  {
   "cell_type": "code",
   "execution_count": 97,
   "id": "e3ebdbcd",
   "metadata": {},
   "outputs": [
    {
     "data": {
      "text/plain": [
       "LogisticRegression(C=900)"
      ]
     },
     "execution_count": 97,
     "metadata": {},
     "output_type": "execute_result"
    }
   ],
   "source": [
    "#best model\n",
    "lr_search.best_estimator_"
   ]
  },
  {
   "cell_type": "code",
   "execution_count": 98,
   "id": "c8eee3fa",
   "metadata": {},
   "outputs": [
    {
     "data": {
      "text/plain": [
       "LogisticRegression(C=900)"
      ]
     },
     "execution_count": 98,
     "metadata": {},
     "output_type": "execute_result"
    }
   ],
   "source": [
    "best_model = LogisticRegression(C = 900 , penalty = 'l2')\n",
    "best_model"
   ]
  },
  {
   "cell_type": "markdown",
   "id": "0deae1d3",
   "metadata": {},
   "source": [
    "## Generating predictions on test data"
   ]
  },
  {
   "cell_type": "code",
   "execution_count": 99,
   "id": "c4f4fec9",
   "metadata": {},
   "outputs": [
    {
     "data": {
      "text/html": [
       "<div>\n",
       "<style scoped>\n",
       "    .dataframe tbody tr th:only-of-type {\n",
       "        vertical-align: middle;\n",
       "    }\n",
       "\n",
       "    .dataframe tbody tr th {\n",
       "        vertical-align: top;\n",
       "    }\n",
       "\n",
       "    .dataframe thead th {\n",
       "        text-align: right;\n",
       "    }\n",
       "</style>\n",
       "<table border=\"1\" class=\"dataframe\">\n",
       "  <thead>\n",
       "    <tr style=\"text-align: right;\">\n",
       "      <th></th>\n",
       "      <th>STORY</th>\n",
       "    </tr>\n",
       "  </thead>\n",
       "  <tbody>\n",
       "    <tr>\n",
       "      <th>0</th>\n",
       "      <td>2019 will see gadgets like gaming smartphones ...</td>\n",
       "    </tr>\n",
       "    <tr>\n",
       "      <th>1</th>\n",
       "      <td>It has also unleashed a wave of changes in the...</td>\n",
       "    </tr>\n",
       "    <tr>\n",
       "      <th>2</th>\n",
       "      <td>It can be confusing to pick the right smartpho...</td>\n",
       "    </tr>\n",
       "    <tr>\n",
       "      <th>3</th>\n",
       "      <td>The mobile application is integrated with a da...</td>\n",
       "    </tr>\n",
       "    <tr>\n",
       "      <th>4</th>\n",
       "      <td>We have rounded up some of the gadgets that sh...</td>\n",
       "    </tr>\n",
       "  </tbody>\n",
       "</table>\n",
       "</div>"
      ],
      "text/plain": [
       "                                               STORY\n",
       "0  2019 will see gadgets like gaming smartphones ...\n",
       "1  It has also unleashed a wave of changes in the...\n",
       "2  It can be confusing to pick the right smartpho...\n",
       "3  The mobile application is integrated with a da...\n",
       "4  We have rounded up some of the gadgets that sh..."
      ]
     },
     "execution_count": 99,
     "metadata": {},
     "output_type": "execute_result"
    }
   ],
   "source": [
    "data_test.head()"
   ]
  },
  {
   "cell_type": "code",
   "execution_count": 100,
   "id": "d553ce66",
   "metadata": {},
   "outputs": [],
   "source": [
    "data_test['clean_story'] = data_test['STORY'].apply(clean_text)"
   ]
  },
  {
   "cell_type": "code",
   "execution_count": 101,
   "id": "4c70707f",
   "metadata": {},
   "outputs": [
    {
     "data": {
      "text/html": [
       "<div>\n",
       "<style scoped>\n",
       "    .dataframe tbody tr th:only-of-type {\n",
       "        vertical-align: middle;\n",
       "    }\n",
       "\n",
       "    .dataframe tbody tr th {\n",
       "        vertical-align: top;\n",
       "    }\n",
       "\n",
       "    .dataframe thead th {\n",
       "        text-align: right;\n",
       "    }\n",
       "</style>\n",
       "<table border=\"1\" class=\"dataframe\">\n",
       "  <thead>\n",
       "    <tr style=\"text-align: right;\">\n",
       "      <th></th>\n",
       "      <th>STORY</th>\n",
       "      <th>clean_story</th>\n",
       "    </tr>\n",
       "  </thead>\n",
       "  <tbody>\n",
       "    <tr>\n",
       "      <th>0</th>\n",
       "      <td>2019 will see gadgets like gaming smartphones ...</td>\n",
       "      <td>see gadget like game smartphones wearable medi...</td>\n",
       "    </tr>\n",
       "    <tr>\n",
       "      <th>1</th>\n",
       "      <td>It has also unleashed a wave of changes in the...</td>\n",
       "      <td>also unleashed wave change mcu make sure futur...</td>\n",
       "    </tr>\n",
       "    <tr>\n",
       "      <th>2</th>\n",
       "      <td>It can be confusing to pick the right smartpho...</td>\n",
       "      <td>confuse pick right smartphone yourself segrega...</td>\n",
       "    </tr>\n",
       "    <tr>\n",
       "      <th>3</th>\n",
       "      <td>The mobile application is integrated with a da...</td>\n",
       "      <td>mobile application integrate dashboard confirm...</td>\n",
       "    </tr>\n",
       "    <tr>\n",
       "      <th>4</th>\n",
       "      <td>We have rounded up some of the gadgets that sh...</td>\n",
       "      <td>round gadget show left indelible mark on consu...</td>\n",
       "    </tr>\n",
       "  </tbody>\n",
       "</table>\n",
       "</div>"
      ],
      "text/plain": [
       "                                               STORY  \\\n",
       "0  2019 will see gadgets like gaming smartphones ...   \n",
       "1  It has also unleashed a wave of changes in the...   \n",
       "2  It can be confusing to pick the right smartpho...   \n",
       "3  The mobile application is integrated with a da...   \n",
       "4  We have rounded up some of the gadgets that sh...   \n",
       "\n",
       "                                         clean_story  \n",
       "0  see gadget like game smartphones wearable medi...  \n",
       "1  also unleashed wave change mcu make sure futur...  \n",
       "2  confuse pick right smartphone yourself segrega...  \n",
       "3  mobile application integrate dashboard confirm...  \n",
       "4  round gadget show left indelible mark on consu...  "
      ]
     },
     "execution_count": 101,
     "metadata": {},
     "output_type": "execute_result"
    }
   ],
   "source": [
    "data_test.head()"
   ]
  },
  {
   "cell_type": "code",
   "execution_count": 102,
   "id": "13cf4c78",
   "metadata": {},
   "outputs": [],
   "source": [
    "tfidf_data_test = tfidf.transform(data_test['clean_story'])"
   ]
  },
  {
   "cell_type": "code",
   "execution_count": 103,
   "id": "3169fe54",
   "metadata": {},
   "outputs": [],
   "source": [
    "data_test_pred = lr_search.best_estimator_.predict(tfidf_data_test)"
   ]
  },
  {
   "cell_type": "code",
   "execution_count": 104,
   "id": "f68b7981",
   "metadata": {},
   "outputs": [
    {
     "data": {
      "text/plain": [
       "array([1, 2, 1, ..., 1, 0, 1], dtype=int64)"
      ]
     },
     "execution_count": 104,
     "metadata": {},
     "output_type": "execute_result"
    }
   ],
   "source": [
    "data_test_pred"
   ]
  },
  {
   "cell_type": "code",
   "execution_count": 105,
   "id": "bd9d23e7",
   "metadata": {},
   "outputs": [],
   "source": [
    "data_test_pred_df = pd.DataFrame(data_test_pred,columns = ['SECTION'])"
   ]
  },
  {
   "cell_type": "code",
   "execution_count": 106,
   "id": "d84e91a5",
   "metadata": {},
   "outputs": [],
   "source": [
    "data_test_pred_df.to_excel('News_Category_Prediction.xlsx',index = False)"
   ]
  },
  {
   "cell_type": "code",
   "execution_count": 107,
   "id": "b5a700b4",
   "metadata": {},
   "outputs": [
    {
     "name": "stdout",
     "output_type": "stream",
     "text": [
      "<class 'pandas.core.frame.DataFrame'>\n",
      "RangeIndex: 2748 entries, 0 to 2747\n",
      "Data columns (total 1 columns):\n",
      " #   Column   Non-Null Count  Dtype\n",
      "---  ------   --------------  -----\n",
      " 0   SECTION  2748 non-null   int64\n",
      "dtypes: int64(1)\n",
      "memory usage: 21.6 KB\n"
     ]
    }
   ],
   "source": [
    "data_test_pred_df.info()"
   ]
  },
  {
   "cell_type": "code",
   "execution_count": 108,
   "id": "e0f2590d",
   "metadata": {},
   "outputs": [
    {
     "data": {
      "text/plain": [
       "(2748, 2)"
      ]
     },
     "execution_count": 108,
     "metadata": {},
     "output_type": "execute_result"
    }
   ],
   "source": [
    "data_test.shape"
   ]
  },
  {
   "cell_type": "code",
   "execution_count": 109,
   "id": "81511c4c",
   "metadata": {},
   "outputs": [
    {
     "data": {
      "text/plain": [
       "2748"
      ]
     },
     "execution_count": 109,
     "metadata": {},
     "output_type": "execute_result"
    }
   ],
   "source": [
    "len(data_test_pred_df)"
   ]
  }
 ],
 "metadata": {
  "kernelspec": {
   "display_name": "Python 3",
   "language": "python",
   "name": "python3"
  },
  "language_info": {
   "codemirror_mode": {
    "name": "ipython",
    "version": 3
   },
   "file_extension": ".py",
   "mimetype": "text/x-python",
   "name": "python",
   "nbconvert_exporter": "python",
   "pygments_lexer": "ipython3",
   "version": "3.9.12"
  }
 },
 "nbformat": 4,
 "nbformat_minor": 5
}
